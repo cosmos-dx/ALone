{
  "cells": [
    {
      "cell_type": "markdown",
      "metadata": {
        "id": "view-in-github",
        "colab_type": "text"
      },
      "source": [
        "<a href=\"https://colab.research.google.com/github/cosmos-dx/ALone/blob/main/Doctorg.ipynb\" target=\"_parent\"><img src=\"https://colab.research.google.com/assets/colab-badge.svg\" alt=\"Open In Colab\"/></a>"
      ]
    },
    {
      "cell_type": "code",
      "source": [
        "################################################################################################################################################################\n",
        "###########################################################################################################################################################################\n",
        "###########################################################################################################################################################################\n",
        "################################################################################################################################################################\n",
        "################################################################################################################################################################\n",
        "################################################################################################################################################################"
      ],
      "metadata": {
        "id": "0-zyfMMajQA3"
      },
      "execution_count": null,
      "outputs": []
    },
    {
      "cell_type": "code",
      "source": [
        "pip install pandas scikit-learn fuzzywuzzy nltk textblob\n"
      ],
      "metadata": {
        "colab": {
          "base_uri": "https://localhost:8080/"
        },
        "id": "r4rK48sv3C4R",
        "outputId": "82722675-077e-4c8d-d532-5a4caf74c8e7"
      },
      "execution_count": 1,
      "outputs": [
        {
          "output_type": "stream",
          "name": "stdout",
          "text": [
            "Requirement already satisfied: pandas in /usr/local/lib/python3.10/dist-packages (2.1.4)\n",
            "Requirement already satisfied: scikit-learn in /usr/local/lib/python3.10/dist-packages (1.3.2)\n",
            "Collecting fuzzywuzzy\n",
            "  Downloading fuzzywuzzy-0.18.0-py2.py3-none-any.whl.metadata (4.9 kB)\n",
            "Requirement already satisfied: nltk in /usr/local/lib/python3.10/dist-packages (3.8.1)\n",
            "Requirement already satisfied: textblob in /usr/local/lib/python3.10/dist-packages (0.17.1)\n",
            "Requirement already satisfied: numpy<2,>=1.22.4 in /usr/local/lib/python3.10/dist-packages (from pandas) (1.26.4)\n",
            "Requirement already satisfied: python-dateutil>=2.8.2 in /usr/local/lib/python3.10/dist-packages (from pandas) (2.8.2)\n",
            "Requirement already satisfied: pytz>=2020.1 in /usr/local/lib/python3.10/dist-packages (from pandas) (2024.1)\n",
            "Requirement already satisfied: tzdata>=2022.1 in /usr/local/lib/python3.10/dist-packages (from pandas) (2024.1)\n",
            "Requirement already satisfied: scipy>=1.5.0 in /usr/local/lib/python3.10/dist-packages (from scikit-learn) (1.13.1)\n",
            "Requirement already satisfied: joblib>=1.1.1 in /usr/local/lib/python3.10/dist-packages (from scikit-learn) (1.4.2)\n",
            "Requirement already satisfied: threadpoolctl>=2.0.0 in /usr/local/lib/python3.10/dist-packages (from scikit-learn) (3.5.0)\n",
            "Requirement already satisfied: click in /usr/local/lib/python3.10/dist-packages (from nltk) (8.1.7)\n",
            "Requirement already satisfied: regex>=2021.8.3 in /usr/local/lib/python3.10/dist-packages (from nltk) (2024.5.15)\n",
            "Requirement already satisfied: tqdm in /usr/local/lib/python3.10/dist-packages (from nltk) (4.66.5)\n",
            "Requirement already satisfied: six>=1.5 in /usr/local/lib/python3.10/dist-packages (from python-dateutil>=2.8.2->pandas) (1.16.0)\n",
            "Downloading fuzzywuzzy-0.18.0-py2.py3-none-any.whl (18 kB)\n",
            "Installing collected packages: fuzzywuzzy\n",
            "Successfully installed fuzzywuzzy-0.18.0\n"
          ]
        }
      ]
    },
    {
      "cell_type": "code",
      "source": [
        "import pandas as pd\n",
        "from sklearn.model_selection import train_test_split\n",
        "from sklearn.ensemble import RandomForestClassifier\n",
        "\n",
        "\n",
        "data = pd.read_csv('doctorg_data.csv')\n",
        "data['symptom'] = data['symptom'].str.lower().str.replace(' ', '')\n",
        "pivot_table = data.pivot_table(values='weight', index='name', columns='symptom',  fill_value=0)\n",
        "X = pivot_table.values\n",
        "y = pivot_table.index\n",
        "\n",
        "X_train, X_test, y_train, y_test = train_test_split(X, y, test_size=0.2, random_state=42)\n",
        "print(pivot_table.index)\n",
        "print(pivot_table.values)"
      ],
      "metadata": {
        "colab": {
          "base_uri": "https://localhost:8080/"
        },
        "id": "nT4Yx2O2kOkF",
        "outputId": "90a67fb4-369a-4c47-cdcb-8d3ca5e64ea9"
      },
      "execution_count": 2,
      "outputs": [
        {
          "output_type": "stream",
          "name": "stdout",
          "text": [
            "Index(['Abdominal hernia', 'Abscess of the lung', 'Achalasia',\n",
            "       'Actinic keratosis', 'Acute bronchospasm', 'Acute glaucoma',\n",
            "       'Acute otitis media', 'Acute pancreatitis', 'Acute sinusitis',\n",
            "       'Allergy',\n",
            "       ...\n",
            "       'Vasculitis', 'Viral warts', 'Vitamin B12 deficiency',\n",
            "       'Vitreous hemorrhage', 'Vocal cord polyp', 'Volvulus',\n",
            "       'Von Hippel-Lindau disease', 'Von Willebrand disease', 'Vulvodynia',\n",
            "       'West Nile virus'],\n",
            "      dtype='object', name='name', length=221)\n",
            "[[0. 0. 0. ... 0. 0. 0.]\n",
            " [0. 0. 0. ... 0. 0. 5.]\n",
            " [0. 0. 0. ... 0. 0. 0.]\n",
            " ...\n",
            " [0. 0. 0. ... 0. 0. 0.]\n",
            " [0. 0. 0. ... 0. 0. 0.]\n",
            " [0. 0. 0. ... 0. 0. 0.]]\n"
          ]
        }
      ]
    },
    {
      "cell_type": "code",
      "source": [
        "model = RandomForestClassifier(n_estimators=100, random_state=42)\n",
        "model.fit(X_train, y_train)"
      ],
      "metadata": {
        "colab": {
          "base_uri": "https://localhost:8080/",
          "height": 75
        },
        "id": "NK35uO2Qo_7v",
        "outputId": "697169e8-63a8-4481-e24e-491d3d060b9a"
      },
      "execution_count": 3,
      "outputs": [
        {
          "output_type": "execute_result",
          "data": {
            "text/plain": [
              "RandomForestClassifier(random_state=42)"
            ],
            "text/html": [
              "<style>#sk-container-id-1 {color: black;}#sk-container-id-1 pre{padding: 0;}#sk-container-id-1 div.sk-toggleable {background-color: white;}#sk-container-id-1 label.sk-toggleable__label {cursor: pointer;display: block;width: 100%;margin-bottom: 0;padding: 0.3em;box-sizing: border-box;text-align: center;}#sk-container-id-1 label.sk-toggleable__label-arrow:before {content: \"▸\";float: left;margin-right: 0.25em;color: #696969;}#sk-container-id-1 label.sk-toggleable__label-arrow:hover:before {color: black;}#sk-container-id-1 div.sk-estimator:hover label.sk-toggleable__label-arrow:before {color: black;}#sk-container-id-1 div.sk-toggleable__content {max-height: 0;max-width: 0;overflow: hidden;text-align: left;background-color: #f0f8ff;}#sk-container-id-1 div.sk-toggleable__content pre {margin: 0.2em;color: black;border-radius: 0.25em;background-color: #f0f8ff;}#sk-container-id-1 input.sk-toggleable__control:checked~div.sk-toggleable__content {max-height: 200px;max-width: 100%;overflow: auto;}#sk-container-id-1 input.sk-toggleable__control:checked~label.sk-toggleable__label-arrow:before {content: \"▾\";}#sk-container-id-1 div.sk-estimator input.sk-toggleable__control:checked~label.sk-toggleable__label {background-color: #d4ebff;}#sk-container-id-1 div.sk-label input.sk-toggleable__control:checked~label.sk-toggleable__label {background-color: #d4ebff;}#sk-container-id-1 input.sk-hidden--visually {border: 0;clip: rect(1px 1px 1px 1px);clip: rect(1px, 1px, 1px, 1px);height: 1px;margin: -1px;overflow: hidden;padding: 0;position: absolute;width: 1px;}#sk-container-id-1 div.sk-estimator {font-family: monospace;background-color: #f0f8ff;border: 1px dotted black;border-radius: 0.25em;box-sizing: border-box;margin-bottom: 0.5em;}#sk-container-id-1 div.sk-estimator:hover {background-color: #d4ebff;}#sk-container-id-1 div.sk-parallel-item::after {content: \"\";width: 100%;border-bottom: 1px solid gray;flex-grow: 1;}#sk-container-id-1 div.sk-label:hover label.sk-toggleable__label {background-color: #d4ebff;}#sk-container-id-1 div.sk-serial::before {content: \"\";position: absolute;border-left: 1px solid gray;box-sizing: border-box;top: 0;bottom: 0;left: 50%;z-index: 0;}#sk-container-id-1 div.sk-serial {display: flex;flex-direction: column;align-items: center;background-color: white;padding-right: 0.2em;padding-left: 0.2em;position: relative;}#sk-container-id-1 div.sk-item {position: relative;z-index: 1;}#sk-container-id-1 div.sk-parallel {display: flex;align-items: stretch;justify-content: center;background-color: white;position: relative;}#sk-container-id-1 div.sk-item::before, #sk-container-id-1 div.sk-parallel-item::before {content: \"\";position: absolute;border-left: 1px solid gray;box-sizing: border-box;top: 0;bottom: 0;left: 50%;z-index: -1;}#sk-container-id-1 div.sk-parallel-item {display: flex;flex-direction: column;z-index: 1;position: relative;background-color: white;}#sk-container-id-1 div.sk-parallel-item:first-child::after {align-self: flex-end;width: 50%;}#sk-container-id-1 div.sk-parallel-item:last-child::after {align-self: flex-start;width: 50%;}#sk-container-id-1 div.sk-parallel-item:only-child::after {width: 0;}#sk-container-id-1 div.sk-dashed-wrapped {border: 1px dashed gray;margin: 0 0.4em 0.5em 0.4em;box-sizing: border-box;padding-bottom: 0.4em;background-color: white;}#sk-container-id-1 div.sk-label label {font-family: monospace;font-weight: bold;display: inline-block;line-height: 1.2em;}#sk-container-id-1 div.sk-label-container {text-align: center;}#sk-container-id-1 div.sk-container {/* jupyter's `normalize.less` sets `[hidden] { display: none; }` but bootstrap.min.css set `[hidden] { display: none !important; }` so we also need the `!important` here to be able to override the default hidden behavior on the sphinx rendered scikit-learn.org. See: https://github.com/scikit-learn/scikit-learn/issues/21755 */display: inline-block !important;position: relative;}#sk-container-id-1 div.sk-text-repr-fallback {display: none;}</style><div id=\"sk-container-id-1\" class=\"sk-top-container\"><div class=\"sk-text-repr-fallback\"><pre>RandomForestClassifier(random_state=42)</pre><b>In a Jupyter environment, please rerun this cell to show the HTML representation or trust the notebook. <br />On GitHub, the HTML representation is unable to render, please try loading this page with nbviewer.org.</b></div><div class=\"sk-container\" hidden><div class=\"sk-item\"><div class=\"sk-estimator sk-toggleable\"><input class=\"sk-toggleable__control sk-hidden--visually\" id=\"sk-estimator-id-1\" type=\"checkbox\" checked><label for=\"sk-estimator-id-1\" class=\"sk-toggleable__label sk-toggleable__label-arrow\">RandomForestClassifier</label><div class=\"sk-toggleable__content\"><pre>RandomForestClassifier(random_state=42)</pre></div></div></div></div></div>"
            ]
          },
          "metadata": {},
          "execution_count": 3
        }
      ]
    },
    {
      "cell_type": "code",
      "source": [
        "def predict_diseases(symptoms, pivot_table, top_n=5):\n",
        "    # Initialize a dictionary to store the scores for each disease\n",
        "    normalized_symptoms = [symptom.lower().replace(' ', '') for symptom in symptoms]\n",
        "    disease_scores = {disease: 0 for disease in pivot_table.index}\n",
        "    symptom_counts = {disease: 0 for disease in pivot_table.index}\n",
        "\n",
        "    # Calculate scores based on the number of matching symptoms and their weights\n",
        "    for symptom in normalized_symptoms:\n",
        "        if symptom in pivot_table.columns:\n",
        "            for disease in pivot_table.index:\n",
        "                weight = pivot_table.at[disease, symptom]\n",
        "                if weight > 0:\n",
        "                    symptom_counts[disease] += 1\n",
        "                    disease_scores[disease] += weight\n",
        "\n",
        "    # Sort diseases by number of matching symptoms first, then by weight\n",
        "    sorted_diseases = sorted(disease_scores.items(), key=lambda item: (symptom_counts[item[0]], item[1]), reverse=True)\n",
        "\n",
        "    # Return the top N diseases\n",
        "    top_diseases = sorted_diseases[:top_n]\n",
        "    return top_diseases\n",
        "\n",
        "# Example usage:\n",
        "symptoms = ['pus draining from ear']\n",
        "#symptoms = ['Diminished hearing','Throat feels tight', 'Lump in throat' ,'Mass on ear','Sharp abdominal pain', 'Headache','Chest tightness' ,'Fever', 'Abnormal involuntary movements']\n",
        "#symptoms = ['Diminished hearing', 'Fluid in ear', 'Redness in ear', 'Mass on ear', 'Plugged feeling in ear','Bleeding from ear','Skin growth', 'Pus draining from ear','Allergic reaction','Muscle swelling']\n",
        "top_diseases = predict_diseases(symptoms, pivot_table, top_n=6)\n",
        "\n",
        "print(\"Top Possible Diseases:\")\n",
        "for disease, score in top_diseases:\n",
        "    print(f\"Disease: {disease}, Score: {score}\")\n"
      ],
      "metadata": {
        "colab": {
          "base_uri": "https://localhost:8080/"
        },
        "id": "w15x7YzWtDlS",
        "outputId": "4669866b-da14-46c4-ca68-d407496f8a23"
      },
      "execution_count": 4,
      "outputs": [
        {
          "output_type": "stream",
          "name": "stdout",
          "text": [
            "Top Possible Diseases:\n",
            "Disease: Cholesteatoma, Score: 21.0\n",
            "Disease: Retinopathy due to high blood pressure, Score: 8.0\n",
            "Disease: Abdominal hernia, Score: 0\n",
            "Disease: Abscess of the lung, Score: 0\n",
            "Disease: Achalasia, Score: 0\n",
            "Disease: Actinic keratosis, Score: 0\n"
          ]
        }
      ]
    },
    {
      "cell_type": "code",
      "source": [
        "import pandas as pd\n",
        "from sklearn.ensemble import RandomForestClassifier\n",
        "from fuzzywuzzy import process\n",
        "from textblob import TextBlob\n",
        "import nltk\n",
        "import re\n",
        "\n",
        "class DoctorG:\n",
        "    def __init__(self, data_path):\n",
        "        # Load and preprocess data\n",
        "        self.data = pd.read_csv(data_path)\n",
        "        self.data['symptom'] = self.data['symptom'].str.lower().str.replace(' ', '')\n",
        "        self.pivot_table = self.data.pivot_table(values='weight', index='name', columns='symptom', fill_value=0)\n",
        "        nltk.download('punkt')\n",
        "\n",
        "    def preprocess_text(self, text):\n",
        "        # Preprocess text: lowercasing, removing special characters, and correcting spelling\n",
        "        text = text.lower()\n",
        "        text = re.sub(r'[^a-z\\s]', '', text)\n",
        "        corrected_text = str(TextBlob(text).correct())\n",
        "        return corrected_text\n",
        "\n",
        "    def extract_symptoms(self, text):\n",
        "        # Extract symptoms from text using fuzzy matching\n",
        "        symptom_list = self.pivot_table.columns.tolist()\n",
        "        extracted_symptoms = []\n",
        "        words = nltk.word_tokenize(text)\n",
        "        for word in words:\n",
        "            print(\" ----- \", word)\n",
        "            match, score = process.extractOne(word, symptom_list)\n",
        "            if score > 80:  # Threshold for fuzzy matching\n",
        "                extracted_symptoms.append(match)\n",
        "        return extracted_symptoms\n",
        "\n",
        "    def predict_diseases(self, symptoms, top_n=5):\n",
        "        # Predict diseases based on symptoms\n",
        "        disease_scores = {disease: 0 for disease in self.pivot_table.index}\n",
        "        symptom_counts = {disease: 0 for disease in self.pivot_table.index}\n",
        "\n",
        "        for symptom in symptoms:\n",
        "            if symptom in self.pivot_table.columns:\n",
        "                for disease in self.pivot_table.index:\n",
        "                    weight = self.pivot_table.at[disease, symptom]\n",
        "                    if weight > 0:\n",
        "                        symptom_counts[disease] += 1\n",
        "                        disease_scores[disease] += weight\n",
        "\n",
        "        # Sort by number of matching symptoms first, then by weight\n",
        "        sorted_diseases = sorted(disease_scores.items(), key=lambda item: (symptom_counts[item[0]], item[1]), reverse=True)\n",
        "        return sorted_diseases[:top_n]\n",
        "\n",
        "    def predict_diseases_from_text(self, user_input, top_n=5):\n",
        "        # Process user input and predict diseases\n",
        "        cleaned_input = self.preprocess_text(user_input)\n",
        "        extracted_symptoms = self.extract_symptoms(cleaned_input)\n",
        "\n",
        "        if extracted_symptoms:\n",
        "            top_diseases = self.predict_diseases(extracted_symptoms, top_n)\n",
        "            if top_diseases:\n",
        "                top_disease_name = top_diseases[0][0]\n",
        "                top_disease_description = self.data.loc[self.data['name'] == top_disease_name, 'description'].values[0]\n",
        "                cleaned_description = re.sub(r'\\s+', ' ', re.sub(r'[^a-zA-Z0-9\\s.,]', '', top_disease_description)).strip()\n",
        "                paragraph_description = ' '.join(cleaned_description.split())\n",
        "                return top_diseases, paragraph_description\n",
        "            else:\n",
        "                return \"No matching diseases found.\"\n",
        "        else:\n",
        "            return \"No matching symptoms found in the dataset.\"\n",
        "\n",
        "# Example usage:\n",
        "data_path = 'doctorg_data.csv'\n",
        "predictor = DoctorG(data_path)\n",
        "\n",
        "user_input = \"I am having MassonEar and FluidinEar and Fever and PusDraininginEar and Rednessinear\"\n",
        "# user_input = \"I am having Dizziness and Fever and Anexity\"\n",
        "top_diseases, top_description = predictor.predict_diseases_from_text(user_input, top_n=6)\n",
        "\n",
        "print(\"Top Possible Diseases:\")\n",
        "for disease, score in top_diseases:\n",
        "    print(f\"Disease: {disease}, Score: {score}\")\n",
        "\n",
        "print(\"\\nDescription of the Top Disease:\")\n",
        "print(top_description)\n"
      ],
      "metadata": {
        "colab": {
          "base_uri": "https://localhost:8080/"
        },
        "id": "6YddH8sP3Bb5",
        "outputId": "8f1146dc-5e56-4e83-e5ec-86aed7fbddf9"
      },
      "execution_count": 19,
      "outputs": [
        {
          "output_type": "stream",
          "name": "stderr",
          "text": [
            "[nltk_data] Downloading package punkt to /root/nltk_data...\n",
            "[nltk_data]   Package punkt is already up-to-date!\n"
          ]
        },
        {
          "output_type": "stream",
          "name": "stdout",
          "text": [
            " -----  i\n",
            " -----  am\n",
            " -----  having\n",
            " -----  massonear\n",
            " -----  and\n",
            " -----  fluidinear\n",
            " -----  and\n",
            " -----  fever\n",
            " -----  and\n",
            " -----  pusdraininginear\n",
            " -----  and\n",
            " -----  rednessinear\n",
            "Top Possible Diseases:\n",
            "Disease: Amyloidosis, Score: 215.0\n",
            "Disease: Wernicke Korsakoff syndrome, Score: 160.0\n",
            "Disease: Extrapyramidal effect of drugs, Score: 149.0\n",
            "Disease: Panic disorder, Score: 352.0\n",
            "Disease: Anxiety, Score: 328.0\n",
            "Disease: Social phobia, Score: 328.0\n",
            "\n",
            "Description of the Top Disease:\n",
            "Amyloidosis Also known as Amyloid Disease In medicine amyloidosis refers to a variety of conditions wherein normally soluble proteins become insoluble and are deposited in the extracellular space of various organs or tissues disrupting normal function. The insoluble fibrous protein aggregates that develop in amyloidosis are known as amyloids. They result from a change in the proteins secondary structure which causes the protein to take on a particular aggregated insoluble form similar to the betapleated sheet. Symptoms vary widely depending upon where in the body amyloid deposits accumulate. Amyloidosis may be inherited or acquired. Senile systemic amyloidosis was determined to be the primary cause of death for 70 of supercentenarians who have been autopsied. Source Wikipedia Patients with amyloidosis often receive hematologic tests human papillomavirus dna detection traction splints and other wound care chlamydia test corneal transplant procedures on spleen removal of ectopic pregnancy and tracheostomy temporary and permanent . commonTestsAndProceduresHematologic tests Blood test commonTestsAndProceduresHuman papillomavirus DNA detection commonTestsAndProceduresTraction splints and other wound care commonTestsAndProceduresChlamydia test commonTestsAndProceduresCorneal transplant commonTestsAndProceduresProcedures on spleen Spleen operation commonTestsAndProceduresRemoval of ectopic pregnancy commonTestsAndProceduresTracheostomy temporary and permanent The most commonly prescribed drugs for patients with amyloidosis include furosemide thyroxine synthroid melphalan dexamethasone ezetimibe zetia citalopram celexa pantoprazole sodium hypochlorite topical hydrochlorothiazide spironolactone tazarotene topical fludrocortisone hydrocortisone and rituximab . commonMedicationsFurosemide commonMedicationsThyroxine Synthroid commonMedicationsMelphalan commonMedicationsDexamethasone commonMedicationsEzetimibe Zetia commonMedicationsCitalopram Celexa commonMedicationsPantoprazole commonMedicationsSodium Hypochlorite Topical commonMedicationsTazarotene Topical commonMedicationsFludrocortisone commonMedicationsHydrocortisone commonMedicationsRituximab Groups of people at highest risk for amyloidosis include age 75 years age 6074 years. On the other hand raceethnicity hispanic and age 1529 years almost never get amyloidosis. Within all the people who go to their doctor with amyloidosis 72 report having shortness of breath 43 report having symptoms of the kidneys and 43 report having congestion in chest. The symptoms that are highly suggestive of amyloidosis are symptoms of the kidneys congestion in chest wrist weakness nailbiting eye strain and feeling hot and cold although you may still have amyloidosis without those symptoms.\n"
          ]
        }
      ]
    }
  ],
  "metadata": {
    "colab": {
      "provenance": [],
      "mount_file_id": "1I5uH2iL5KQ9EQZXL9GtGewXmofbmwEPc",
      "authorship_tag": "ABX9TyMwA177D4M9WTz287v59ro5",
      "include_colab_link": true
    },
    "kernelspec": {
      "display_name": "Python 3",
      "name": "python3"
    },
    "language_info": {
      "name": "python"
    }
  },
  "nbformat": 4,
  "nbformat_minor": 0
}